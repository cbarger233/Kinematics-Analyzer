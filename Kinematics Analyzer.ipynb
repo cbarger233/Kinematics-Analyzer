{
 "cells": [
  {
   "cell_type": "markdown",
   "metadata": {},
   "source": [
    "## Kinematics Projectile Motion Analyzer"
   ]
  },
  {
   "cell_type": "markdown",
   "metadata": {},
   "source": [
    "This notebook is a GUI-driven application that allows a user to enter initial conditions for a projectile being launched. The initial conditions are the angle at which the projectile is launched (in degrees), the initial height, and the initial velocity.\n",
    "\n",
    "The notebook outputs information on the projectile, including the x- and y-position and velocity function for multiple angles, including the one the user inputs.\n",
    "\n",
    "The motion of the projectile is plotted at the end."
   ]
  },
  {
   "cell_type": "code",
   "execution_count": 1,
   "metadata": {},
   "outputs": [
    {
     "name": "stdout",
     "output_type": "stream",
     "text": [
      "Equations for when the angle is 15.0 degrees:\n",
      "y-velocity:\n"
     ]
    },
    {
     "data": {
      "image/png": "[encoded data removed]",
      "text/latex": [
       "$$v{\\left (t \\right )} = - 9.81 t + 51.7638090205041$$"
      ],
      "text/plain": [
       "v(t) = -9.81⋅t + 51.7638090205041"
      ]
     },
     "metadata": {},
     "output_type": "display_data"
    },
    {
     "name": "stdout",
     "output_type": "stream",
     "text": [
      "x-velocity:\n"
     ]
    },
    {
     "data": {
      "image/png": "[encoded data removed]",
      "text/latex": [
       "$$v{\\left (t \\right )} = 193.185165257814$$"
      ],
      "text/plain": [
       "v(t) = 193.185165257814"
      ]
     },
     "metadata": {},
     "output_type": "display_data"
    },
    {
     "name": "stdout",
     "output_type": "stream",
     "text": [
      "y-position:\n"
     ]
    },
    {
     "data": {
      "image/png": "[encoded data removed]",
      "text/latex": [
       "$$s{\\left (t \\right )} = - 4.905 t^{2} + 51.7638090205041 t + 50.0$$"
      ],
      "text/plain": [
       "                2                            \n",
       "s(t) = - 4.905⋅t  + 51.7638090205041⋅t + 50.0"
      ]
     },
     "metadata": {},
     "output_type": "display_data"
    },
    {
     "name": "stdout",
     "output_type": "stream",
     "text": [
      "x-position:\n"
     ]
    },
    {
     "data": {
      "image/png": "[encoded data removed]",
      "text/latex": [
       "$$s{\\left (t \\right )} = 193.185165257814 t$$"
      ],
      "text/plain": [
       "s(t) = 193.185165257814⋅t"
      ]
     },
     "metadata": {},
     "output_type": "display_data"
    },
    {
     "name": "stdout",
     "output_type": "stream",
     "text": [
      "The maximum height of the projectile happens at t=5.277 with a height of 186.569.\n",
      "The range of the projectile is 2210.814.\n",
      "\n",
      "\n",
      "Equations for when the angle is 30.0 degrees:\n",
      "y-velocity:\n"
     ]
    },
    {
     "data": {
      "image/png": "[encoded data removed]",
      "text/latex": [
       "$$v{\\left (t \\right )} = - 9.81 t + 100.0$$"
      ],
      "text/plain": [
       "v(t) = -9.81⋅t + 100.0"
      ]
     },
     "metadata": {},
     "output_type": "display_data"
    },
    {
     "name": "stdout",
     "output_type": "stream",
     "text": [
      "x-velocity:\n"
     ]
    },
    {
     "data": {
      "image/png": "[encoded data removed]",
      "text/latex": [
       "$$v{\\left (t \\right )} = 173.205080756888$$"
      ],
      "text/plain": [
       "v(t) = 173.205080756888"
      ]
     },
     "metadata": {},
     "output_type": "display_data"
    },
    {
     "name": "stdout",
     "output_type": "stream",
     "text": [
      "y-position:\n"
     ]
    },
    {
     "data": {
      "image/png": "[encoded data removed]",
      "text/latex": [
       "$$s{\\left (t \\right )} = - 4.905 t^{2} + 100.0 t + 50.0$$"
      ],
      "text/plain": [
       "                2                 \n",
       "s(t) = - 4.905⋅t  + 100.0⋅t + 50.0"
      ]
     },
     "metadata": {},
     "output_type": "display_data"
    },
    {
     "name": "stdout",
     "output_type": "stream",
     "text": [
      "x-position:\n"
     ]
    },
    {
     "data": {
      "image/png": "[encoded data removed]",
      "text/latex": [
       "$$s{\\left (t \\right )} = 173.205080756888 t$$"
      ],
      "text/plain": [
       "s(t) = 173.205080756888⋅t"
      ]
     },
     "metadata": {},
     "output_type": "display_data"
    },
    {
     "name": "stdout",
     "output_type": "stream",
     "text": [
      "The maximum height of the projectile happens at t=10.194 with a height of 559.684.\n",
      "The range of the projectile is 3615.771.\n",
      "\n",
      "\n",
      "Equations for when the angle is 45.0 degrees:\n",
      "y-velocity:\n"
     ]
    },
    {
     "data": {
      "image/png": "[encoded data removed]",
      "text/latex": [
       "$$v{\\left (t \\right )} = - 9.81 t + 141.421356237309$$"
      ],
      "text/plain": [
       "v(t) = -9.81⋅t + 141.421356237309"
      ]
     },
     "metadata": {},
     "output_type": "display_data"
    },
    {
     "name": "stdout",
     "output_type": "stream",
     "text": [
      "x-velocity:\n"
     ]
    },
    {
     "data": {
      "image/png": "[encoded data removed]",
      "text/latex": [
       "$$v{\\left (t \\right )} = 141.42135623731$$"
      ],
      "text/plain": [
       "v(t) = 141.42135623731"
      ]
     },
     "metadata": {},
     "output_type": "display_data"
    },
    {
     "name": "stdout",
     "output_type": "stream",
     "text": [
      "y-position:\n"
     ]
    },
    {
     "data": {
      "image/png": "[encoded data removed]",
      "text/latex": [
       "$$s{\\left (t \\right )} = - 4.905 t^{2} + 141.421356237309 t + 50.0$$"
      ],
      "text/plain": [
       "                2                            \n",
       "s(t) = - 4.905⋅t  + 141.421356237309⋅t + 50.0"
      ]
     },
     "metadata": {},
     "output_type": "display_data"
    },
    {
     "name": "stdout",
     "output_type": "stream",
     "text": [
      "x-position:\n"
     ]
    },
    {
     "data": {
      "image/png": "[encoded data removed]",
      "text/latex": [
       "$$s{\\left (t \\right )} = 141.42135623731 t$$"
      ],
      "text/plain": [
       "s(t) = 141.42135623731⋅t"
      ]
     },
     "metadata": {},
     "output_type": "display_data"
    },
    {
     "name": "stdout",
     "output_type": "stream",
     "text": [
      "The maximum height of the projectile happens at t=14.416 with a height of 1069.368.\n",
      "The range of the projectile is 4126.873.\n",
      "\n",
      "\n",
      "Equations for when the angle is 75.0 degrees:\n",
      "y-velocity:\n"
     ]
    },
    {
     "data": {
      "image/png": "[encoded data removed]",
      "text/latex": [
       "$$v{\\left (t \\right )} = - 9.81 t + 193.185165257814$$"
      ],
      "text/plain": [
       "v(t) = -9.81⋅t + 193.185165257814"
      ]
     },
     "metadata": {},
     "output_type": "display_data"
    },
    {
     "name": "stdout",
     "output_type": "stream",
     "text": [
      "x-velocity:\n"
     ]
    },
    {
     "data": {
      "image/png": "[encoded data removed]",
      "text/latex": [
       "$$v{\\left (t \\right )} = 51.7638090205041$$"
      ],
      "text/plain": [
       "v(t) = 51.7638090205041"
      ]
     },
     "metadata": {},
     "output_type": "display_data"
    },
    {
     "name": "stdout",
     "output_type": "stream",
     "text": [
      "y-position:\n"
     ]
    },
    {
     "data": {
      "image/png": "[encoded data removed]",
      "text/latex": [
       "$$s{\\left (t \\right )} = - 4.905 t^{2} + 193.185165257814 t + 50.0$$"
      ],
      "text/plain": [
       "                2                            \n",
       "s(t) = - 4.905⋅t  + 193.185165257814⋅t + 50.0"
      ]
     },
     "metadata": {},
     "output_type": "display_data"
    },
    {
     "name": "stdout",
     "output_type": "stream",
     "text": [
      "x-position:\n"
     ]
    },
    {
     "data": {
      "image/png": "[encoded data removed]",
      "text/latex": [
       "$$s{\\left (t \\right )} = 51.7638090205041 t$$"
      ],
      "text/plain": [
       "s(t) = 51.7638090205041⋅t"
      ]
     },
     "metadata": {},
     "output_type": "display_data"
    },
    {
     "name": "stdout",
     "output_type": "stream",
     "text": [
      "The maximum height of the projectile happens at t=19.693 with a height of 1952.167.\n",
      "The range of the projectile is 2052.047.\n",
      "\n",
      "\n",
      "Equations for when the angle is 17.0 degrees:\n",
      "y-velocity:\n"
     ]
    },
    {
     "data": {
      "image/png": "[encoded data removed]",
      "text/latex": [
       "$$v{\\left (t \\right )} = - 9.81 t + 58.4743409445474$$"
      ],
      "text/plain": [
       "v(t) = -9.81⋅t + 58.4743409445474"
      ]
     },
     "metadata": {},
     "output_type": "display_data"
    },
    {
     "name": "stdout",
     "output_type": "stream",
     "text": [
      "x-velocity:\n"
     ]
    },
    {
     "data": {
      "image/png": "[encoded data removed]",
      "text/latex": [
       "$$v{\\left (t \\right )} = 191.260951192607$$"
      ],
      "text/plain": [
       "v(t) = 191.260951192607"
      ]
     },
     "metadata": {},
     "output_type": "display_data"
    },
    {
     "name": "stdout",
     "output_type": "stream",
     "text": [
      "y-position:\n"
     ]
    },
    {
     "data": {
      "image/png": "[encoded data removed]",
      "text/latex": [
       "$$s{\\left (t \\right )} = - 4.905 t^{2} + 58.4743409445474 t + 50.0$$"
      ],
      "text/plain": [
       "                2                            \n",
       "s(t) = - 4.905⋅t  + 58.4743409445474⋅t + 50.0"
      ]
     },
     "metadata": {},
     "output_type": "display_data"
    },
    {
     "name": "stdout",
     "output_type": "stream",
     "text": [
      "x-position:\n"
     ]
    },
    {
     "data": {
      "image/png": "[encoded data removed]",
      "text/latex": [
       "$$s{\\left (t \\right )} = 191.260951192607 t$$"
      ],
      "text/plain": [
       "s(t) = 191.260951192607⋅t"
      ]
     },
     "metadata": {},
     "output_type": "display_data"
    },
    {
     "name": "stdout",
     "output_type": "stream",
     "text": [
      "The maximum height of the projectile happens at t=5.961 with a height of 224.274.\n",
      "The range of the projectile is 2433.337.\n",
      "\n",
      "\n"
     ]
    },
    {
     "data": {
      "image/png": "[encoded data removed]",
      "text/plain": [
       "<matplotlib.figure.Figure at 0x133e2ff0>"
      ]
     },
     "metadata": {},
     "output_type": "display_data"
    }
   ],
   "source": [
    "import tkinter as tk\n",
    "import numpy as np\n",
    "import scipy as sp\n",
    "from sympy import *\n",
    "from scipy.integrate import odeint\n",
    "from IPython.display import display\n",
    "import matplotlib.pyplot as plt\n",
    "init_printing()\n",
    "\n",
    "window = tk.Tk()\n",
    "window.title(\"Kinematics\")\n",
    "\n",
    "#initial height\n",
    "lab = tk.Label(window, text = \"Initial Height: \").grid(column=0, row=0)\n",
    "ent = tk.Entry(window, width=10)\n",
    "ent.grid(column=1, row=0)\n",
    "ent.insert(0, '0')\n",
    "\n",
    "#initial projectile velocity\n",
    "lab1 = tk.Label(window, text = \"Initial Velocity: \").grid(column=0,row=1)\n",
    "ent1 = tk.Entry(window, width=10)\n",
    "ent1.grid(column=1, row=1)\n",
    "ent1.insert(0, '0')\n",
    "\n",
    "#angle of elevation\n",
    "lab2 = tk.Label(window, text = \"Projectile Angle: \").grid(column=0,row=2)\n",
    "ent2 = tk.Entry(window, width=10)\n",
    "ent2.grid(column=1,row=2)\n",
    "ent2.insert(0, '0')\n",
    "\n",
    "#gravitational acceleration\n",
    "lab3 = tk.Label(window, text = \"Gravity: \").grid(column=0,row=3)\n",
    "ent3 = tk.Entry(window, width=10)\n",
    "ent3.grid(column=1,row=3)\n",
    "ent3.insert(0, \"-9.81\")\n",
    "\n",
    "\n",
    "def clicked():\n",
    "    initial_height = ent.get()\n",
    "    initial_height = float(initial_height)\n",
    "    initial_velocity = ent1.get()\n",
    "    initial_velocity = float(initial_velocity)\n",
    "    angle = ent2.get()\n",
    "    angle_fig = angle\n",
    "    angle = float(angle)\n",
    "    angle_list = angle\n",
    "    angle = np.radians(angle)\n",
    "    gravity = ent3.get()\n",
    "    gravity = float(gravity)\n",
    "    \n",
    "    v = Function('v')\n",
    "    s = Function('s')\n",
    "    t = symbols('t')\n",
    "    \n",
    "    ranges = []\n",
    "    heights = []\n",
    "    angles = [15.0, 30.0, 45.0, 75.0, angle_list]\n",
    "    angles_radians = np.radians(angles)\n",
    "    \n",
    "    #loop through all the requested angles to get their ranges and heights\n",
    "    for ang in angles:\n",
    "        #velocity components\n",
    "        initial_yvelocity = np.sin(np.radians(ang))*initial_velocity\n",
    "        initial_xvelocity = np.cos(np.radians(ang))*initial_velocity\n",
    "        \n",
    "        #equation for the velocity in the y direction\n",
    "        myODE = Eq(diff(v(t),t), gravity)\n",
    "        y_velocity = dsolve(myODE, v(t))\n",
    "        y_velocity = y_velocity.subs(symbols('C1'), initial_yvelocity)\n",
    "        \n",
    "        #equation for position in the y direction\n",
    "        myODE = Eq(diff(s(t),t),y_velocity.rhs)\n",
    "        y_position = dsolve(myODE, s(t))\n",
    "        y_position = y_position.subs(symbols('C1'), initial_height)\n",
    "        \n",
    "        #equation for velocity in the x direction\n",
    "        myODE = Eq(diff(v(t),t), 0)\n",
    "        x_velocity = dsolve(myODE, v(t))\n",
    "        x_velocity = x_velocity.subs(symbols('C1'), initial_xvelocity)\n",
    "        \n",
    "        #equation for the position in the x direction\n",
    "        myODE = Eq(diff(s(t),t), x_velocity.rhs)\n",
    "        x_position = dsolve(myODE, s(t))\n",
    "        x_position = x_position.subs(symbols('C1'), 0)\n",
    "        \n",
    "        #getting arrays for height and range\n",
    "        range_time = solve(y_position.rhs, t)\n",
    "        time=np.linspace(0, float(range_time[1]), 200)\n",
    "        f_orig_y = lambdify(t, y_position.rhs)\n",
    "        f_orig_x = lambdify(t, x_position.rhs)\n",
    "        y = f_orig_y(time)\n",
    "        x = f_orig_x(time)\n",
    "        ranges.append(x)\n",
    "        heights.append(y)\n",
    "        \n",
    "        print('Equations for when the angle is ' + str(ang) + ' degrees:')\n",
    "        print(\"y-velocity:\")\n",
    "        display(y_velocity)\n",
    "        print(\"x-velocity:\")\n",
    "        display(x_velocity)\n",
    "        print(\"y-position:\")\n",
    "        display(y_position)\n",
    "        print(\"x-position:\")\n",
    "        display(x_position)\n",
    "        \n",
    "        #Find the maximum height, set y-velocity=0\n",
    "        max_height_time = solve(y_velocity.rhs, t)\n",
    "        max_height = y_position.rhs.subs(t,max_height_time[0])\n",
    "        print(\"The maximum height of the projectile happens at t=\" + \"%.3f\"%max_height_time[0] + \" with a height of \" \"%.3f\"%max_height + \".\")\n",
    "\n",
    "        #solving for when the y-position is equal to zero (second time) will get us the time when the max range is reached\n",
    "        range_time = solve(y_position.rhs, t)\n",
    "        max_range = x_position.rhs.subs(t,range_time[1])\n",
    "        print(\"The range of the projectile is \" + \"%.3f\"%max_range + \".\")\n",
    "        print('\\n')\n",
    "        \n",
    "    \n",
    "    %matplotlib inline\n",
    "    fig = plt.figure()\n",
    "    plt.grid()\n",
    "    ax = fig.add_subplot(111)\n",
    "    for i in range(len(angles)):\n",
    "        ax.plot(ranges[i], heights[i], label = str(angles[i]) + ' degrees')\n",
    "    \n",
    "    ax.set_xlabel(\"Range\")\n",
    "    ax.set_ylabel(\"Height\")\n",
    "    ax.set_title(\"Motion of Projectiles\")\n",
    "    ax.legend(loc=\"best\")\n",
    "    fig.tight_layout()\n",
    "    window.destroy()\n",
    "    #fig.show()\n",
    "    \n",
    "    \n",
    "button = tk.Button(window, text = \"Enter\", command = clicked)\n",
    "button.grid(column=0,row=4)\n",
    "\n",
    "window.mainloop()\n",
    "plt.show()"
   ]
  },
  {
   "cell_type": "code",
   "execution_count": null,
   "metadata": {
    "collapsed": true
   },
   "outputs": [],
   "source": []
  }
 ],
 "metadata": {
  "kernelspec": {
   "display_name": "Python 3",
   "language": "python",
   "name": "python3"
  },
  "language_info": {
   "codemirror_mode": {
    "name": "ipython",
    "version": 3
   },
   "file_extension": ".py",
   "mimetype": "text/x-python",
   "name": "python",
   "nbconvert_exporter": "python",
   "pygments_lexer": "ipython3",
   "version": "3.6.1"
  }
 },
 "nbformat": 4,
 "nbformat_minor": 2
}
