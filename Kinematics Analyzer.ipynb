{
 "cells": [
  {
   "cell_type": "code",
   "execution_count": 6,
   "metadata": {},
   "outputs": [
    {
     "name": "stdout",
     "output_type": "stream",
     "text": [
      "Equations for when the angle is 15.0 degrees:\n",
      "y-velocity:\n"
     ]
    },
    {
     "data": {
      "image/png": "[encoded data removed]",
      "text/latex": [
       "$$v{\\left (t \\right )} = - 1.0 t + 5.95283803735798$$"
      ],
      "text/plain": [
       "v(t) = -1.0⋅t + 5.95283803735798"
      ]
     },
     "metadata": {},
     "output_type": "display_data"
    },
    {
     "name": "stdout",
     "output_type": "stream",
     "text": [
      "x-velocity:\n"
     ]
    },
    {
     "data": {
      "image/png": "[encoded data removed]",
      "text/latex": [
       "$$v{\\left (t \\right )} = 22.2162940046486$$"
      ],
      "text/plain": [
       "v(t) = 22.2162940046486"
      ]
     },
     "metadata": {},
     "output_type": "display_data"
    },
    {
     "name": "stdout",
     "output_type": "stream",
     "text": [
      "y-position:\n"
     ]
    },
    {
     "data": {
      "image/png": "[encoded data removed]",
      "text/latex": [
       "$$s{\\left (t \\right )} = - 0.5 t^{2} + 5.95283803735798 t$$"
      ],
      "text/plain": [
       "              2                     \n",
       "s(t) = - 0.5⋅t  + 5.95283803735798⋅t"
      ]
     },
     "metadata": {},
     "output_type": "display_data"
    },
    {
     "name": "stdout",
     "output_type": "stream",
     "text": [
      "x-position:\n"
     ]
    },
    {
     "data": {
      "image/png": "[encoded data removed]",
      "text/latex": [
       "$$s{\\left (t \\right )} = 22.2162940046486 t$$"
      ],
      "text/plain": [
       "s(t) = 22.2162940046486⋅t"
      ]
     },
     "metadata": {},
     "output_type": "display_data"
    },
    {
     "name": "stdout",
     "output_type": "stream",
     "text": [
      "The maximum height of the projectile happens at t=5.953 with a height of 17.718.\n",
      "The range of the projectile is 264.500.\n",
      "\n",
      "\n",
      "Equations for when the angle is 30.0 degrees:\n",
      "y-velocity:\n"
     ]
    },
    {
     "data": {
      "image/png": "[encoded data removed]",
      "text/latex": [
       "$$v{\\left (t \\right )} = - 1.0 t + 11.5$$"
      ],
      "text/plain": [
       "v(t) = -1.0⋅t + 11.5"
      ]
     },
     "metadata": {},
     "output_type": "display_data"
    },
    {
     "name": "stdout",
     "output_type": "stream",
     "text": [
      "x-velocity:\n"
     ]
    },
    {
     "data": {
      "image/png": "[encoded data removed]",
      "text/latex": [
       "$$v{\\left (t \\right )} = 19.9185842870421$$"
      ],
      "text/plain": [
       "v(t) = 19.9185842870421"
      ]
     },
     "metadata": {},
     "output_type": "display_data"
    },
    {
     "name": "stdout",
     "output_type": "stream",
     "text": [
      "y-position:\n"
     ]
    },
    {
     "data": {
      "image/png": "[encoded data removed]",
      "text/latex": [
       "$$s{\\left (t \\right )} = - 0.5 t^{2} + 11.5 t$$"
      ],
      "text/plain": [
       "              2         \n",
       "s(t) = - 0.5⋅t  + 11.5⋅t"
      ]
     },
     "metadata": {},
     "output_type": "display_data"
    },
    {
     "name": "stdout",
     "output_type": "stream",
     "text": [
      "x-position:\n"
     ]
    },
    {
     "data": {
      "image/png": "[encoded data removed]",
      "text/latex": [
       "$$s{\\left (t \\right )} = 19.9185842870421 t$$"
      ],
      "text/plain": [
       "s(t) = 19.9185842870421⋅t"
      ]
     },
     "metadata": {},
     "output_type": "display_data"
    },
    {
     "name": "stdout",
     "output_type": "stream",
     "text": [
      "The maximum height of the projectile happens at t=11.500 with a height of 66.125.\n",
      "The range of the projectile is 458.127.\n",
      "\n",
      "\n",
      "Equations for when the angle is 45.0 degrees:\n",
      "y-velocity:\n"
     ]
    },
    {
     "data": {
      "image/png": "[encoded data removed]",
      "text/latex": [
       "$$v{\\left (t \\right )} = - 1.0 t + 16.2634559672906$$"
      ],
      "text/plain": [
       "v(t) = -1.0⋅t + 16.2634559672906"
      ]
     },
     "metadata": {},
     "output_type": "display_data"
    },
    {
     "name": "stdout",
     "output_type": "stream",
     "text": [
      "x-velocity:\n"
     ]
    },
    {
     "data": {
      "image/png": "[encoded data removed]",
      "text/latex": [
       "$$v{\\left (t \\right )} = 16.2634559672906$$"
      ],
      "text/plain": [
       "v(t) = 16.2634559672906"
      ]
     },
     "metadata": {},
     "output_type": "display_data"
    },
    {
     "name": "stdout",
     "output_type": "stream",
     "text": [
      "y-position:\n"
     ]
    },
    {
     "data": {
      "image/png": "[encoded data removed]",
      "text/latex": [
       "$$s{\\left (t \\right )} = - 0.5 t^{2} + 16.2634559672906 t$$"
      ],
      "text/plain": [
       "              2                     \n",
       "s(t) = - 0.5⋅t  + 16.2634559672906⋅t"
      ]
     },
     "metadata": {},
     "output_type": "display_data"
    },
    {
     "name": "stdout",
     "output_type": "stream",
     "text": [
      "x-position:\n"
     ]
    },
    {
     "data": {
      "image/png": "[encoded data removed]",
      "text/latex": [
       "$$s{\\left (t \\right )} = 16.2634559672906 t$$"
      ],
      "text/plain": [
       "s(t) = 16.2634559672906⋅t"
      ]
     },
     "metadata": {},
     "output_type": "display_data"
    },
    {
     "name": "stdout",
     "output_type": "stream",
     "text": [
      "The maximum height of the projectile happens at t=16.263 with a height of 132.250.\n",
      "The range of the projectile is 529.000.\n",
      "\n",
      "\n",
      "Equations for when the angle is 75.0 degrees:\n",
      "y-velocity:\n"
     ]
    },
    {
     "data": {
      "image/png": "[encoded data removed]",
      "text/latex": [
       "$$v{\\left (t \\right )} = - 1.0 t + 22.2162940046486$$"
      ],
      "text/plain": [
       "v(t) = -1.0⋅t + 22.2162940046486"
      ]
     },
     "metadata": {},
     "output_type": "display_data"
    },
    {
     "name": "stdout",
     "output_type": "stream",
     "text": [
      "x-velocity:\n"
     ]
    },
    {
     "data": {
      "image/png": "[encoded data removed]",
      "text/latex": [
       "$$v{\\left (t \\right )} = 5.95283803735798$$"
      ],
      "text/plain": [
       "v(t) = 5.95283803735798"
      ]
     },
     "metadata": {},
     "output_type": "display_data"
    },
    {
     "name": "stdout",
     "output_type": "stream",
     "text": [
      "y-position:\n"
     ]
    },
    {
     "data": {
      "image/png": "[encoded data removed]",
      "text/latex": [
       "$$s{\\left (t \\right )} = - 0.5 t^{2} + 22.2162940046486 t$$"
      ],
      "text/plain": [
       "              2                     \n",
       "s(t) = - 0.5⋅t  + 22.2162940046486⋅t"
      ]
     },
     "metadata": {},
     "output_type": "display_data"
    },
    {
     "name": "stdout",
     "output_type": "stream",
     "text": [
      "x-position:\n"
     ]
    },
    {
     "data": {
      "image/png": "[encoded data removed]",
      "text/latex": [
       "$$s{\\left (t \\right )} = 5.95283803735798 t$$"
      ],
      "text/plain": [
       "s(t) = 5.95283803735798⋅t"
      ]
     },
     "metadata": {},
     "output_type": "display_data"
    },
    {
     "name": "stdout",
     "output_type": "stream",
     "text": [
      "The maximum height of the projectile happens at t=22.216 with a height of 246.782.\n",
      "The range of the projectile is 264.500.\n",
      "\n",
      "\n",
      "Equations for when the angle is 23.0 degrees:\n",
      "y-velocity:\n"
     ]
    },
    {
     "data": {
      "image/png": "[encoded data removed]",
      "text/latex": [
       "$$v{\\left (t \\right )} = - 1.0 t + 8.9868159552533$$"
      ],
      "text/plain": [
       "v(t) = -1.0⋅t + 8.9868159552533"
      ]
     },
     "metadata": {},
     "output_type": "display_data"
    },
    {
     "name": "stdout",
     "output_type": "stream",
     "text": [
      "x-velocity:\n"
     ]
    },
    {
     "data": {
      "image/png": "[encoded data removed]",
      "text/latex": [
       "$$v{\\left (t \\right )} = 21.1716116294061$$"
      ],
      "text/plain": [
       "v(t) = 21.1716116294061"
      ]
     },
     "metadata": {},
     "output_type": "display_data"
    },
    {
     "name": "stdout",
     "output_type": "stream",
     "text": [
      "y-position:\n"
     ]
    },
    {
     "data": {
      "image/png": "[encoded data removed]",
      "text/latex": [
       "$$s{\\left (t \\right )} = - 0.5 t^{2} + 8.9868159552533 t$$"
      ],
      "text/plain": [
       "              2                    \n",
       "s(t) = - 0.5⋅t  + 8.9868159552533⋅t"
      ]
     },
     "metadata": {},
     "output_type": "display_data"
    },
    {
     "name": "stdout",
     "output_type": "stream",
     "text": [
      "x-position:\n"
     ]
    },
    {
     "data": {
      "image/png": "[encoded data removed]",
      "text/latex": [
       "$$s{\\left (t \\right )} = 21.1716116294061 t$$"
      ],
      "text/plain": [
       "s(t) = 21.1716116294061⋅t"
      ]
     },
     "metadata": {},
     "output_type": "display_data"
    },
    {
     "name": "stdout",
     "output_type": "stream",
     "text": [
      "The maximum height of the projectile happens at t=8.987 with a height of 40.381.\n",
      "The range of the projectile is 380.531.\n",
      "\n",
      "\n"
     ]
    },
    {
     "data": {
      "image/png": "[encoded data removed]",
      "text/plain": [
       "<matplotlib.figure.Figure at 0x16ac5c50>"
      ]
     },
     "metadata": {},
     "output_type": "display_data"
    }
   ],
   "source": [
    "import tkinter as tk\n",
    "import numpy as np\n",
    "import scipy as sp\n",
    "from sympy import *\n",
    "from scipy.integrate import odeint\n",
    "from IPython.display import display\n",
    "import matplotlib.pyplot as plt\n",
    "init_printing()\n",
    "\n",
    "window = tk.Tk()\n",
    "window.title(\"Kinematics\")\n",
    "\n",
    "#initial height\n",
    "lab = tk.Label(window, text = \"Initial Height: \").grid(column=0, row=0)\n",
    "ent = tk.Entry(window, width=10)\n",
    "ent.grid(column=1, row=0)\n",
    "ent.insert(0, '0')\n",
    "\n",
    "#initial projectile velocity\n",
    "lab1 = tk.Label(window, text = \"Initial Velocity: \").grid(column=0,row=1)\n",
    "ent1 = tk.Entry(window, width=10)\n",
    "ent1.grid(column=1, row=1)\n",
    "ent1.insert(0, '0')\n",
    "\n",
    "#angle of elevation\n",
    "lab2 = tk.Label(window, text = \"Projectile Angle: \").grid(column=0,row=2)\n",
    "ent2 = tk.Entry(window, width=10)\n",
    "ent2.grid(column=1,row=2)\n",
    "ent2.insert(0, '0')\n",
    "\n",
    "#gravitational acceleration\n",
    "lab3 = tk.Label(window, text = \"Gravity: \").grid(column=0,row=3)\n",
    "ent3 = tk.Entry(window, width=10)\n",
    "ent3.grid(column=1,row=3)\n",
    "ent3.insert(0, \"-9.81\")\n",
    "\n",
    "\n",
    "def clicked():\n",
    "    initial_height = ent.get()\n",
    "    initial_height = float(initial_height)\n",
    "    initial_velocity = ent1.get()\n",
    "    initial_velocity = float(initial_velocity)\n",
    "    angle = ent2.get()\n",
    "    angle_fig = angle\n",
    "    angle = float(angle)\n",
    "    angle_list = angle\n",
    "    angle = np.radians(angle)\n",
    "    gravity = ent3.get()\n",
    "    gravity = float(gravity)\n",
    "    \n",
    "    v = Function('v')\n",
    "    s = Function('s')\n",
    "    t = symbols('t')\n",
    "    \n",
    "    ranges = []\n",
    "    heights = []\n",
    "    angles = [15.0, 30.0, 45.0, 75.0, angle_list]\n",
    "    angles_radians = np.radians(angles)\n",
    "    \n",
    "    #loop through all the requested angles to get their ranges and heights\n",
    "    for ang in angles:\n",
    "        #velocity components\n",
    "        initial_yvelocity = np.sin(np.radians(ang))*initial_velocity\n",
    "        initial_xvelocity = np.cos(np.radians(ang))*initial_velocity\n",
    "        \n",
    "        #equation for the velocity in the y direction\n",
    "        myODE = Eq(diff(v(t),t), gravity)\n",
    "        y_velocity = dsolve(myODE, v(t))\n",
    "        y_velocity = y_velocity.subs(symbols('C1'), initial_yvelocity)\n",
    "        \n",
    "        #equation for position in the y direction\n",
    "        myODE = Eq(diff(s(t),t),y_velocity.rhs)\n",
    "        y_position = dsolve(myODE, s(t))\n",
    "        y_position = y_position.subs(symbols('C1'), initial_height)\n",
    "        \n",
    "        #equation for velocity in the x direction\n",
    "        myODE = Eq(diff(v(t),t), 0)\n",
    "        x_velocity = dsolve(myODE, v(t))\n",
    "        x_velocity = x_velocity.subs(symbols('C1'), initial_xvelocity)\n",
    "        \n",
    "        #equation for the position in the x direction\n",
    "        myODE = Eq(diff(s(t),t), x_velocity.rhs)\n",
    "        x_position = dsolve(myODE, s(t))\n",
    "        x_position = x_position.subs(symbols('C1'), 0)\n",
    "        \n",
    "        #getting arrays for height and range\n",
    "        range_time = solve(y_position.rhs, t)\n",
    "        time=np.linspace(0, float(range_time[1]), 200)\n",
    "        f_orig_y = lambdify(t, y_position.rhs)\n",
    "        f_orig_x = lambdify(t, x_position.rhs)\n",
    "        y = f_orig_y(time)\n",
    "        x = f_orig_x(time)\n",
    "        ranges.append(x)\n",
    "        heights.append(y)\n",
    "        \n",
    "        print('Equations for when the angle is ' + str(ang) + ' degrees:')\n",
    "        print(\"y-velocity:\")\n",
    "        display(y_velocity)\n",
    "        print(\"x-velocity:\")\n",
    "        display(x_velocity)\n",
    "        print(\"y-position:\")\n",
    "        display(y_position)\n",
    "        print(\"x-position:\")\n",
    "        display(x_position)\n",
    "        \n",
    "        #Find the maximum height, set y-velocity=0\n",
    "        max_height_time = solve(y_velocity.rhs, t)\n",
    "        max_height = y_position.rhs.subs(t,max_height_time[0])\n",
    "        print(\"The maximum height of the projectile happens at t=\" + \"%.3f\"%max_height_time[0] + \" with a height of \" \"%.3f\"%max_height + \".\")\n",
    "\n",
    "        #solving for when the y-position is equal to zero (second time) will get us the time when the max range is reached\n",
    "        range_time = solve(y_position.rhs, t)\n",
    "        max_range = x_position.rhs.subs(t,range_time[1])\n",
    "        print(\"The range of the projectile is \" + \"%.3f\"%max_range + \".\")\n",
    "        print('\\n')\n",
    "        \n",
    "    \n",
    "    %matplotlib inline\n",
    "    fig = plt.figure()\n",
    "    plt.grid()\n",
    "    ax = fig.add_subplot(111)\n",
    "    for i in range(len(angles)):\n",
    "        ax.plot(ranges[i], heights[i], label = str(angles[i]) + ' degrees')\n",
    "    \n",
    "    ax.set_xlabel(\"Range\")\n",
    "    ax.set_ylabel(\"Height\")\n",
    "    ax.set_title(\"Motion of Projectiles\")\n",
    "    ax.legend(loc=\"best\")\n",
    "    fig.tight_layout()\n",
    "    window.destroy()\n",
    "    #fig.show()\n",
    "    \n",
    "    \n",
    "button = tk.Button(window, text = \"Enter\", command = clicked)\n",
    "button.grid(column=0,row=4)\n",
    "\n",
    "window.mainloop()\n",
    "plt.show()"
   ]
  },
  {
   "cell_type": "code",
   "execution_count": null,
   "metadata": {
    "collapsed": true
   },
   "outputs": [],
   "source": []
  }
 ],
 "metadata": {
  "kernelspec": {
   "display_name": "Python 3",
   "language": "python",
   "name": "python3"
  },
  "language_info": {
   "codemirror_mode": {
    "name": "ipython",
    "version": 3
   },
   "file_extension": ".py",
   "mimetype": "text/x-python",
   "name": "python",
   "nbconvert_exporter": "python",
   "pygments_lexer": "ipython3",
   "version": "3.6.1"
  }
 },
 "nbformat": 4,
 "nbformat_minor": 2
}
